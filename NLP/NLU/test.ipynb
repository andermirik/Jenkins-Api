{
 "cells": [
  {
   "cell_type": "code",
   "execution_count": 13,
   "metadata": {},
   "outputs": [
    {
     "name": "stdout",
     "output_type": "stream",
     "text": [
      "12\n"
     ]
    }
   ],
   "source": [
    "RUSSIAN_NUMBERS = {\n",
    "    \"ноль\": 0,\n",
    "    \"один\": 1,\n",
    "    \"два\": 2,\n",
    "    \"три\": 3,\n",
    "    \"четыре\": 4,\n",
    "    \"пять\": 5,\n",
    "    \"шесть\": 6,\n",
    "    \"семь\": 7,\n",
    "    \"восемь\": 8,\n",
    "    \"девять\": 9,\n",
    "    \"десять\": 10,\n",
    "    \"одиннадцать\": 11,\n",
    "    \"двенадцать\": 12,\n",
    "    \"тринадцать\": 13,\n",
    "    \"четырнадцать\": 14,\n",
    "    \"пятнадцать\": 15,\n",
    "    \"шестнадцать\": 16,\n",
    "    \"семнадцать\": 17,\n",
    "    \"восемнадцать\": 18,\n",
    "    \"девятнадцать\": 19,\n",
    "    \"двадцать\": 20,\n",
    "}\n",
    "\n",
    "# Добавляем числа от 21 до 99\n",
    "for i in range(21, 100):\n",
    "    tens = i // 10\n",
    "    ones = i % 10\n",
    "    tens_word = \"\"\n",
    "    ones_word = \"\"\n",
    "\n",
    "    if tens == 2:\n",
    "        tens_word = \"двадцать\"\n",
    "    elif tens == 3:\n",
    "        tens_word = \"тридцать\"\n",
    "    elif tens == 4:\n",
    "        tens_word = \"сорок\"\n",
    "    elif tens == 5:\n",
    "        tens_word = \"пятьдесят\"\n",
    "    elif tens == 6:\n",
    "        tens_word = \"шестьдесят\"\n",
    "    elif tens == 7:\n",
    "        tens_word = \"семьдесят\"\n",
    "    elif tens == 8:\n",
    "        tens_word = \"восемьдесят\"\n",
    "    elif tens == 9:\n",
    "        tens_word = \"девяносто\"\n",
    "\n",
    "    if ones == 1:\n",
    "        ones_word = \"один\"\n",
    "    elif ones == 2:\n",
    "        ones_word = \"два\"\n",
    "    elif ones == 3:\n",
    "        ones_word = \"три\"\n",
    "    elif ones == 4:\n",
    "        ones_word = \"четыре\"\n",
    "    elif ones == 5:\n",
    "        ones_word = \"пять\"\n",
    "    elif ones == 6:\n",
    "        ones_word = \"шесть\"\n",
    "    elif ones == 7:\n",
    "        ones_word = \"семь\"\n",
    "    elif ones == 8:\n",
    "        ones_word = \"восемь\"\n",
    "    elif ones == 9:\n",
    "        ones_word = \"девять\"\n",
    "\n",
    "    word = f\"{tens_word} {ones_word}\"\n",
    "    RUSSIAN_NUMBERS[word.strip()] = i\n",
    "\n",
    "\n",
    "def word_to_number(word: str) -> int:\n",
    "    return RUSSIAN_NUMBERS.get(word.lower(), None)\n",
    "\n",
    "# Пример использования\n",
    "word = \"двенадцать\"\n",
    "number = word_to_number(word)\n",
    "print(number)  # вывод: 12"
   ]
  },
  {
   "cell_type": "code",
   "execution_count": 4,
   "metadata": {},
   "outputs": [
    {
     "name": "stdout",
     "output_type": "stream",
     "text": [
      "42\n"
     ]
    }
   ],
   "source": [
    "from typing import List\n",
    "import Levenshtein\n",
    "\n",
    "def find_closest_match(word: str, choices: List[str]) -> str:\n",
    "    min_distance = float('inf')\n",
    "    closest_word = None\n",
    "\n",
    "    for choice in choices:\n",
    "        distance = Levenshtein.distance(word, choice)\n",
    "\n",
    "        if distance < min_distance:\n",
    "            min_distance = distance\n",
    "            closest_word = choice\n",
    "\n",
    "    return closest_word\n",
    "\n",
    "def word_to_number_with_typo(word: str) -> int:\n",
    "    closest_word = find_closest_match(word, list(RUSSIAN_NUMBERS.keys()))\n",
    "    return RUSSIAN_NUMBERS.get(closest_word, None)\n",
    "\n",
    "# Пример использования\n",
    "word_with_typo = \"срогдва\"\n",
    "number = word_to_number_with_typo(word_with_typo)\n",
    "print(number)  # вывод: 42\n"
   ]
  },
  {
   "cell_type": "code",
   "execution_count": 20,
   "metadata": {},
   "outputs": [
    {
     "name": "stdout",
     "output_type": "stream",
     "text": [
      "останови сборку задачи задача номер 42\n"
     ]
    }
   ],
   "source": [
    "import difflib\n",
    "def replace_numbers_with_digits(text):\n",
    "    words = text.split()\n",
    "    result = []\n",
    "\n",
    "    for word in words:\n",
    "        matches = difflib.get_close_matches(word, RUSSIAN_NUMBERS.keys(), n=1, cutoff=0.75)\n",
    "        if matches:\n",
    "            result.append(str(RUSSIAN_NUMBERS[matches[0]]))\n",
    "        else:\n",
    "            result.append(word)\n",
    "\n",
    "    return \" \".join(result)\n",
    "\n",
    "text = \"останови сборку задачи задача номер срогдва\"\n",
    "result = replace_numbers_with_digits(text)\n",
    "print(result)  # \"останови сбурку задачи задача номер 42\""
   ]
  },
  {
   "cell_type": "code",
   "execution_count": 12,
   "metadata": {},
   "outputs": [
    {
     "name": "stdout",
     "output_type": "stream",
     "text": [
      "{'ноль': 0, 'один': 1, 'два': 2, 'три': 3, 'четыре': 4, 'пять': 5, 'шесть': 6, 'семь': 7, 'восемь': 8, 'девять': 9, 'десять': 10, 'одиннадцать': 11, 'двенадцать': 12, 'тринадцать': 13, 'четырнадцать': 14, 'пятнадцать': 15, 'шестнадцать': 16, 'семнадцать': 17, 'восемнадцать': 18, 'девятнадцать': 19, 'двадцать': 20, 'двадцать один': 21, 'двадцать два': 22, 'двадцать три': 23, 'двадцать четыре': 24, 'двадцать пять': 25, 'двадцать шесть': 26, 'двадцать семь': 27, 'двадцать восемь': 28, 'двадцать девять': 29, 'тридцать': 30, 'тридцать один': 31, 'тридцать два': 32, 'тридцать три': 33, 'тридцать четыре': 34, 'тридцать пять': 35, 'тридцать шесть': 36, 'тридцать семь': 37, 'тридцать восемь': 38, 'тридцать девять': 39, 'сорок': 40, 'сорок один': 41, 'сорок два': 42, 'сорок три': 43, 'сорок четыре': 44, 'сорок пять': 45, 'сорок шесть': 46, 'сорок семь': 47, 'сорок восемь': 48, 'сорок девять': 49, 'пятьдесят': 50, 'пятьдесят один': 51, 'пятьдесят два': 52, 'пятьдесят три': 53, 'пятьдесят четыре': 54, 'пятьдесят пять': 55, 'пятьдесят шесть': 56, 'пятьдесят семь': 57, 'пятьдесят восемь': 58, 'пятьдесят девять': 59, 'шестьдесят': 60, 'шестьдесят один': 61, 'шестьдесят два': 62, 'шестьдесят три': 63, 'шестьдесят четыре': 64, 'шестьдесят пять': 65, 'шестьдесят шесть': 66, 'шестьдесят семь': 67, 'шестьдесят восемь': 68, 'шестьдесят девять': 69, 'семьдесят': 70, 'семьдесят один': 71, 'семьдесят два': 72, 'семьдесят три': 73, 'семьдесят четыре': 74, 'семьдесят пять': 75, 'семьдесят шесть': 76, 'семьдесят семь': 77, 'семьдесят восемь': 78, 'семьдесят девять': 79, 'восемьдесят': 80, 'восемьдесят один': 81, 'восемьдесят два': 82, 'восемьдесят три': 83, 'восемьдесят четыре': 84, 'восемьдесят пять': 85, 'восемьдесят шесть': 86, 'восемьдесят семь': 87, 'восемьдесят восемь': 88, 'восемьдесят девять': 89, 'девяносто': 90, 'девяносто один': 91, 'девяносто два': 92, 'девяносто три': 93, 'девяносто четыре': 94, 'девяносто пять': 95, 'девяносто шесть': 96, 'девяносто семь': 97, 'девяносто восемь': 98, 'девяносто девять': 99, 'сто': 100, 'двести': 200, 'триста': 300, 'четыреста': 400, 'пятьсот': 500, 'шестьсот': 600, 'семьсот': 700, 'восемьсот': 800, 'девятьсот': 900}\n"
     ]
    }
   ],
   "source": [
    "print(RUSSIAN_NUMBERS)"
   ]
  },
  {
   "cell_type": "code",
   "execution_count": 21,
   "metadata": {},
   "outputs": [
    {
     "name": "stdout",
     "output_type": "stream",
     "text": [
      "останови сборку задачи 42\n"
     ]
    }
   ],
   "source": [
    "def replace_numbers_with_digits(text):\n",
    "    words = text.split()\n",
    "    result = []\n",
    "\n",
    "    i = 0\n",
    "    while i < len(words):\n",
    "        best_match = None\n",
    "        best_match_score = 0\n",
    "        best_match_length = 0\n",
    "\n",
    "        for length in range(5, 0, -1):\n",
    "            if i + length > len(words):\n",
    "                continue\n",
    "\n",
    "            phrase = ' '.join(words[i:i + length])\n",
    "            matches = difflib.get_close_matches(phrase, RUSSIAN_NUMBERS.keys(), n=1, cutoff=0.75)\n",
    "\n",
    "            if matches:\n",
    "                score = difflib.SequenceMatcher(None, phrase, matches[0]).ratio()\n",
    "                if score > best_match_score:\n",
    "                    best_match = matches[0]\n",
    "                    best_match_score = score\n",
    "                    best_match_length = length\n",
    "\n",
    "        if best_match:\n",
    "            result.append(str(RUSSIAN_NUMBERS[best_match]))\n",
    "            i += best_match_length\n",
    "        else:\n",
    "            result.append(words[i])\n",
    "            i += 1\n",
    "\n",
    "    return ' '.join(result)\n",
    "text = \"останови сборку задачи номер сорок два\"\n",
    "print(replace_numbers_with_digits(text))"
   ]
  },
  {
   "cell_type": "code",
   "execution_count": 35,
   "metadata": {},
   "outputs": [
    {
     "name": "stdout",
     "output_type": "stream",
     "text": [
      "остановись борку задача задача номер сорогла\n"
     ]
    }
   ],
   "source": [
    "def post_process_numbers(text):\n",
    "    words = text.split()\n",
    "    result = []\n",
    "    i = 0\n",
    "\n",
    "    while i < len(words):\n",
    "        word = words[i]\n",
    "\n",
    "        if word.isdigit():\n",
    "            number = int(word)\n",
    "            i += 1\n",
    "            while i < len(words) and words[i].isdigit():\n",
    "                number += int(words[i])\n",
    "                i += 1\n",
    "            result.append(str(number))\n",
    "        else:\n",
    "            result.append(word)\n",
    "            i += 1\n",
    "\n",
    "    return \" \".join(result)\n",
    "\n",
    "def contains_all_words(phrase, match):\n",
    "    phrase_words = set(phrase.split())\n",
    "    match_words = set(match.split())\n",
    "    return match_words.issubset(phrase_words)\n",
    "\n",
    "def is_number_word(word):\n",
    "    return word in RUSSIAN_NUMBERS\n",
    "\n",
    "def replace_numbers_with_digits(text):\n",
    "    words = text.split()\n",
    "    result = []\n",
    "    i = 0\n",
    "\n",
    "    while i < len(words):\n",
    "        word = words[i]\n",
    "        matches = difflib.get_close_matches(word, RUSSIAN_NUMBERS.keys(), n=1, cutoff=0.7)\n",
    "        if matches and is_number_word(matches[0]):\n",
    "            num_word = matches[0]\n",
    "            if contains_all_words(\" \".join(words[i:i+num_word.count(\" \")+1]), num_word):\n",
    "                result.append(str(RUSSIAN_NUMBERS[num_word]))\n",
    "                i += num_word.count(\" \") + 1\n",
    "            else:\n",
    "                result.append(word)\n",
    "                i += 1\n",
    "        else:\n",
    "            result.append(word)\n",
    "            i += 1\n",
    "\n",
    "    return post_process_numbers(\" \".join(result))\n",
    "\n",
    "text = \"остановись борку задача задача номер сорогла\"\n",
    "print(replace_numbers_with_digits(text))\n"
   ]
  }
 ],
 "metadata": {
  "kernelspec": {
   "display_name": "nlp",
   "language": "python",
   "name": "python3"
  },
  "language_info": {
   "codemirror_mode": {
    "name": "ipython",
    "version": 3
   },
   "file_extension": ".py",
   "mimetype": "text/x-python",
   "name": "python",
   "nbconvert_exporter": "python",
   "pygments_lexer": "ipython3",
   "version": "3.9.13"
  },
  "orig_nbformat": 4
 },
 "nbformat": 4,
 "nbformat_minor": 2
}
